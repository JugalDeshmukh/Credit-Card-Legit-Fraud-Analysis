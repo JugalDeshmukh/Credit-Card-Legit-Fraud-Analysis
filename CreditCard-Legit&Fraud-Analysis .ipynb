{
 "cells": [
  {
   "cell_type": "code",
   "execution_count": 7,
   "id": "norman-thursday",
   "metadata": {},
   "outputs": [],
   "source": [
    "credit_card <- read.csv(\"C:/Users/princ/DAV-Programs/creditcard.csv\")"
   ]
  },
  {
   "cell_type": "code",
   "execution_count": 8,
   "id": "built-johns",
   "metadata": {},
   "outputs": [],
   "source": [
    "# In class 0 is for legitimate transaction and 1 is for fraud\n",
    "credit_card$Class <- factor(credit_card$Class, levels<-c(0, 1))"
   ]
  },
  {
   "cell_type": "code",
   "execution_count": 11,
   "id": "small-bosnia",
   "metadata": {},
   "outputs": [
    {
     "data": {
      "text/html": [
       "0"
      ],
      "text/latex": [
       "0"
      ],
      "text/markdown": [
       "0"
      ],
      "text/plain": [
       "[1] 0"
      ]
     },
     "metadata": {},
     "output_type": "display_data"
    }
   ],
   "source": [
    "# count the missing values\n",
    "sum(is.na(credit_card))"
   ]
  },
  {
   "cell_type": "code",
   "execution_count": 12,
   "id": "sweet-toolbox",
   "metadata": {},
   "outputs": [
    {
     "data": {
      "text/plain": [
       "\n",
       "     0      1 \n",
       "284315    492 "
      ]
     },
     "metadata": {},
     "output_type": "display_data"
    }
   ],
   "source": [
    "# get the distribution of fraud and legitimate transaction in the dataset\n",
    "table(credit_card$Class)"
   ]
  },
  {
   "cell_type": "code",
   "execution_count": 13,
   "id": "celtic-manitoba",
   "metadata": {},
   "outputs": [
    {
     "data": {
      "text/plain": [
       "\n",
       "          0           1 \n",
       "0.998272514 0.001727486 "
      ]
     },
     "metadata": {},
     "output_type": "display_data"
    }
   ],
   "source": [
    "# get percentage of fraud and legitimate transaction\n",
    "prop.table(table(credit_card$Class))"
   ]
  },
  {
   "cell_type": "code",
   "execution_count": 14,
   "id": "immune-complaint",
   "metadata": {},
   "outputs": [],
   "source": [
    "labels <- (c('legitimate', 'fraud'))"
   ]
  },
  {
   "cell_type": "code",
   "execution_count": 15,
   "id": "defined-somalia",
   "metadata": {},
   "outputs": [],
   "source": [
    "lebels <- paste(labels, round(100*prop.table(table(credit_card$Class)), 2))"
   ]
  },
  {
   "cell_type": "code",
   "execution_count": 16,
   "id": "forty-front",
   "metadata": {},
   "outputs": [
    {
     "data": {
      "image/png": "[encoded data removed]",
      "text/plain": [
       "Plot with title \"Pie chart of credit card transaction\""
      ]
     },
     "metadata": {},
     "output_type": "display_data"
    }
   ],
   "source": [
    "# pie chart of credit card transaction\n",
    "pie(table(credit_card$Class), labels, col=c('orange', 'red'), main=\"Pie chart of credit card transaction\")"
   ]
  },
  {
   "cell_type": "code",
   "execution_count": 17,
   "id": "japanese-sound",
   "metadata": {},
   "outputs": [],
   "source": [
    "predictions <- rep.int(0, nrow(credit_card))\n",
    "predictions <- factor(predictions, levels=c(0,1))"
   ]
  },
  {
   "cell_type": "code",
   "execution_count": 10,
   "id": "linear-magic",
   "metadata": {},
   "outputs": [],
   "source": [
    "#install.packages('caret')"
   ]
  },
  {
   "cell_type": "code",
   "execution_count": 18,
   "id": "orange-layout",
   "metadata": {},
   "outputs": [
    {
     "name": "stderr",
     "output_type": "stream",
     "text": [
      "Warning message:\n",
      "\"package 'caret' was built under R version 3.6.3\"Loading required package: lattice\n",
      "Warning message:\n",
      "\"package 'lattice' was built under R version 3.6.3\"Loading required package: ggplot2\n",
      "Warning message:\n",
      "\"package 'ggplot2' was built under R version 3.6.3\""
     ]
    }
   ],
   "source": [
    "library(caret)"
   ]
  },
  {
   "cell_type": "code",
   "execution_count": 15,
   "id": "painted-grounds",
   "metadata": {},
   "outputs": [
    {
     "name": "stderr",
     "output_type": "stream",
     "text": [
      "also installing the dependency 'SparseM'\n",
      "\n"
     ]
    },
    {
     "name": "stdout",
     "output_type": "stream",
     "text": [
      "package 'SparseM' successfully unpacked and MD5 sums checked\n",
      "package 'e1071' successfully unpacked and MD5 sums checked\n",
      "\n",
      "The downloaded binary packages are in\n",
      "\tC:\\Users\\princ\\AppData\\Local\\Temp\\Rtmp69b6KV\\downloaded_packages\n"
     ]
    }
   ],
   "source": [
    "#install.packages('e1071', dependencies=TRUE)"
   ]
  },
  {
   "cell_type": "code",
   "execution_count": 19,
   "id": "intended-individual",
   "metadata": {},
   "outputs": [
    {
     "data": {
      "text/plain": [
       "Confusion Matrix and Statistics\n",
       "\n",
       "          Reference\n",
       "Prediction      0      1\n",
       "         0 284315    492\n",
       "         1      0      0\n",
       "                                          \n",
       "               Accuracy : 0.9983          \n",
       "                 95% CI : (0.9981, 0.9984)\n",
       "    No Information Rate : 0.9983          \n",
       "    P-Value [Acc > NIR] : 0.512           \n",
       "                                          \n",
       "                  Kappa : 0               \n",
       "                                          \n",
       " Mcnemar's Test P-Value : <2e-16          \n",
       "                                          \n",
       "            Sensitivity : 1.0000          \n",
       "            Specificity : 0.0000          \n",
       "         Pos Pred Value : 0.9983          \n",
       "         Neg Pred Value :    NaN          \n",
       "             Prevalence : 0.9983          \n",
       "         Detection Rate : 0.9983          \n",
       "   Detection Prevalence : 1.0000          \n",
       "      Balanced Accuracy : 0.5000          \n",
       "                                          \n",
       "       'Positive' Class : 0               \n",
       "                                          "
      ]
     },
     "metadata": {},
     "output_type": "display_data"
    }
   ],
   "source": [
    "confusionMatrix(data = predictions, reference=credit_card$Class)"
   ]
  },
  {
   "cell_type": "code",
   "execution_count": 20,
   "id": "decreased-chapter",
   "metadata": {},
   "outputs": [],
   "source": [
    "library(dplyr)"
   ]
  },
  {
   "cell_type": "code",
   "execution_count": 21,
   "id": "lesbian-sector",
   "metadata": {},
   "outputs": [],
   "source": [
    "set.seed(1)"
   ]
  },
  {
   "cell_type": "code",
   "execution_count": 22,
   "id": "located-liberty",
   "metadata": {},
   "outputs": [],
   "source": [
    "credit_card <- credit_card%>%sample_frac(0.1)"
   ]
  },
  {
   "cell_type": "code",
   "execution_count": 23,
   "id": "every-treatment",
   "metadata": {},
   "outputs": [
    {
     "data": {
      "text/plain": [
       "\n",
       "    0     1 \n",
       "28437    44 "
      ]
     },
     "metadata": {},
     "output_type": "display_data"
    }
   ],
   "source": [
    "table(credit_card$Class)\n",
    "library(ggplot2)"
   ]
  },
  {
   "cell_type": "code",
   "execution_count": 24,
   "id": "stable-extent",
   "metadata": {},
   "outputs": [
    {
     "data": {
      "image/png": "[encoded data removed]",
      "text/plain": [
       "plot without title"
      ]
     },
     "metadata": {},
     "output_type": "display_data"
    }
   ],
   "source": [
    "#plot of two variable V1 and V2\n",
    "#data frame is our credit card data frame\n",
    "#Second layer is aesthetic layer (AES) which contains variables tha we want \n",
    "#to plot\n",
    "#color of the plot is based on the categories of different classes\n",
    "#Third layer is geometry layer(geom) for scatter plot\n",
    "#to change the backgroung of the plot chage the theme to theme_bw\n",
    "ggplot(data = credit_card, aes(x = V1, y = V2,col=Class))+geom_point()+theme_bw()+scale_color_manual(values = c('dodgerblue2', 'red'))"
   ]
  },
  {
   "cell_type": "code",
   "execution_count": 25,
   "id": "competitive-prior",
   "metadata": {},
   "outputs": [
    {
     "name": "stdout",
     "output_type": "stream",
     "text": [
      "package 'caTools' successfully unpacked and MD5 sums checked\n",
      "\n",
      "The downloaded binary packages are in\n",
      "\tC:\\Users\\princ\\AppData\\Local\\Temp\\Rtmpoxc7ev\\downloaded_packages\n"
     ]
    }
   ],
   "source": [
    "#install.packages('caTools')"
   ]
  },
  {
   "cell_type": "code",
   "execution_count": 26,
   "id": "reserved-wildlife",
   "metadata": {},
   "outputs": [
    {
     "name": "stderr",
     "output_type": "stream",
     "text": [
      "Warning message:\n",
      "\"package 'caTools' was built under R version 3.6.3\""
     ]
    }
   ],
   "source": [
    "library(caTools)\n",
    "set.seed(123)"
   ]
  },
  {
   "cell_type": "code",
   "execution_count": 21,
   "id": "crude-arlington",
   "metadata": {},
   "outputs": [],
   "source": [
    "# Split the dataset into training and testing dataset\n",
    "#split ration tells me how many rows I want  in the training set(80%) \n",
    "#and testing set(20%)"
   ]
  },
  {
   "cell_type": "code",
   "execution_count": 27,
   "id": "executed-indianapolis",
   "metadata": {},
   "outputs": [],
   "source": [
    "data_sample=sample.split(credit_card$Class, SplitRatio = 0.80)"
   ]
  },
  {
   "cell_type": "code",
   "execution_count": 28,
   "id": "clear-constitutional",
   "metadata": {},
   "outputs": [
    {
     "data": {
      "text/html": [
       "<ol class=list-inline>\n",
       "\t<li>22785</li>\n",
       "\t<li>31</li>\n",
       "</ol>\n"
      ],
      "text/latex": [
       "\\begin{enumerate*}\n",
       "\\item 22785\n",
       "\\item 31\n",
       "\\end{enumerate*}\n"
      ],
      "text/markdown": [
       "1. 22785\n",
       "2. 31\n",
       "\n",
       "\n"
      ],
      "text/plain": [
       "[1] 22785    31"
      ]
     },
     "metadata": {},
     "output_type": "display_data"
    },
    {
     "data": {
      "text/html": [
       "<ol class=list-inline>\n",
       "\t<li>5696</li>\n",
       "\t<li>31</li>\n",
       "</ol>\n"
      ],
      "text/latex": [
       "\\begin{enumerate*}\n",
       "\\item 5696\n",
       "\\item 31\n",
       "\\end{enumerate*}\n"
      ],
      "text/markdown": [
       "1. 5696\n",
       "2. 31\n",
       "\n",
       "\n"
      ],
      "text/plain": [
       "[1] 5696   31"
      ]
     },
     "metadata": {},
     "output_type": "display_data"
    }
   ],
   "source": [
    "train_data=subset(credit_card, data_sample==TRUE)\n",
    "test_data = subset(credit_card, data_sample == FALSE)\n",
    "dim(train_data)\n",
    "dim(test_data)"
   ]
  },
  {
   "cell_type": "code",
   "execution_count": 24,
   "id": "dependent-testing",
   "metadata": {},
   "outputs": [],
   "source": [
    "#Random-Over Sampling (ROS)\n",
    "#increase the number of fraud cases to oversample the #minority class\n",
    "#So after running this code 50%cases will be Ligitimate\n",
    "#and 50% as fraud cases"
   ]
  },
  {
   "cell_type": "code",
   "execution_count": 29,
   "id": "adverse-array",
   "metadata": {},
   "outputs": [],
   "source": [
    "n_legit<-22750\n",
    "new_fract_legit<-0.50\n",
    "new_n_total <- n_legit/new_fract_legit   # = 22750/0.50"
   ]
  },
  {
   "cell_type": "code",
   "execution_count": 30,
   "id": "acquired-animation",
   "metadata": {},
   "outputs": [
    {
     "name": "stdout",
     "output_type": "stream",
     "text": [
      "package 'ROSE' successfully unpacked and MD5 sums checked\n",
      "\n",
      "The downloaded binary packages are in\n",
      "\tC:\\Users\\princ\\AppData\\Local\\Temp\\Rtmpoxc7ev\\downloaded_packages\n"
     ]
    }
   ],
   "source": [
    "#install.packages(\"ROSE\")"
   ]
  },
  {
   "cell_type": "code",
   "execution_count": 31,
   "id": "amazing-crawford",
   "metadata": {},
   "outputs": [
    {
     "name": "stderr",
     "output_type": "stream",
     "text": [
      "Warning message:\n",
      "\"package 'ROSE' was built under R version 3.6.3\"Loaded ROSE 0.0-3\n",
      "\n"
     ]
    }
   ],
   "source": [
    "library(ROSE) "
   ]
  },
  {
   "cell_type": "markdown",
   "id": "oriented-socket",
   "metadata": {},
   "source": [
    "### Random over sampling "
   ]
  },
  {
   "cell_type": "code",
   "execution_count": 32,
   "id": "endless-designer",
   "metadata": {},
   "outputs": [
    {
     "data": {
      "text/plain": [
       "\n",
       "    0     1 \n",
       "22750 22750 "
      ]
     },
     "metadata": {},
     "output_type": "display_data"
    }
   ],
   "source": [
    "#ovun.sample is used for random oversampling\n",
    "#In formula section we have Class and the DOT(.) indicates that rest of the variables are independent variables\n",
    "#~ is used to separate them\n",
    "#data is that we want to sample\n",
    "#N is the total number of rows sampled\n",
    "#seed function is used to get the same result if you run the program again and again\n",
    "oversampling_result <- ovun.sample(Class ~., data=train_data,\n",
    "method = \"over\",\n",
    "N = new_n_total,\n",
    "seed = 2019)\n",
    "oversampled_credit <- oversampling_result$data\n",
    "table(oversampled_credit$Class)"
   ]
  },
  {
   "cell_type": "code",
   "execution_count": 33,
   "id": "confident-integration",
   "metadata": {},
   "outputs": [
    {
     "data": {
      "image/png": "[encoded data removed]",
      "text/plain": [
       "plot without title"
      ]
     },
     "metadata": {},
     "output_type": "display_data"
    }
   ],
   "source": [
    "ggplot(data = oversampled_credit, aes(x = V1, y = V2, col = Class))+\n",
    "geom_point(position = position_jitter(width = 0.2))+\n",
    "theme_bw()+\n",
    "scale_color_manual(values = c('dodgerblue2', 'red'))"
   ]
  },
  {
   "cell_type": "markdown",
   "id": "pleased-recommendation",
   "metadata": {},
   "source": [
    "### Ramdom under sampling"
   ]
  },
  {
   "cell_type": "code",
   "execution_count": 34,
   "id": "refined-voltage",
   "metadata": {},
   "outputs": [
    {
     "data": {
      "text/plain": [
       "\n",
       "    0     1 \n",
       "22750    35 "
      ]
     },
     "metadata": {},
     "output_type": "display_data"
    }
   ],
   "source": [
    "#Random Under-Sampling(RUS)\n",
    "table(train_data$Class)\n",
    "n_fraud <- 35\n",
    "new_frac_fraud <- 0.50\n",
    "new_nn_total <- n_fraud/new_frac_fraud #  35/0.50"
   ]
  },
  {
   "cell_type": "code",
   "execution_count": 35,
   "id": "responsible-reset",
   "metadata": {},
   "outputs": [
    {
     "data": {
      "text/plain": [
       "\n",
       " 0  1 \n",
       "35 35 "
      ]
     },
     "metadata": {},
     "output_type": "display_data"
    }
   ],
   "source": [
    "#library(ROSE)\n",
    "undersampling_result <- ovun.sample(Class ~ . , \n",
    "data = train_data,\n",
    "method = \"under\",\n",
    "N = new_nn_total,\n",
    "seed = 2019)\n",
    "undersampled_credit <- undersampling_result$data\n",
    "table(undersampled_credit$Class)"
   ]
  },
  {
   "cell_type": "code",
   "execution_count": 36,
   "id": "stunning-martin",
   "metadata": {},
   "outputs": [
    {
     "data": {
      "image/png": "[encoded data removed]",
      "text/plain": [
       "plot without title"
      ]
     },
     "metadata": {},
     "output_type": "display_data"
    }
   ],
   "source": [
    "ggplot(data = undersampled_credit, aes(x = V1, y = V2, col = Class))+\n",
    "geom_point()+\n",
    "theme_bw()+\n",
    "scale_color_manual(values = c('dodgerblue2', 'red'))"
   ]
  },
  {
   "cell_type": "markdown",
   "id": "afraid-dollar",
   "metadata": {},
   "source": [
    "### ROS and RUS Both"
   ]
  },
  {
   "cell_type": "code",
   "execution_count": 37,
   "id": "intelligent-divide",
   "metadata": {},
   "outputs": [],
   "source": [
    "n_new <- nrow(train_data)  # 22785\n",
    "fraction_fraud_new <- 0.50"
   ]
  },
  {
   "cell_type": "code",
   "execution_count": 38,
   "id": "brazilian-invention",
   "metadata": {},
   "outputs": [
    {
     "data": {
      "text/plain": [
       "\n",
       "    0     1 \n",
       "11430 11355 "
      ]
     },
     "metadata": {},
     "output_type": "display_data"
    }
   ],
   "source": [
    "sampling_result <- ovun.sample(Class ~ . ,\n",
    "data = train_data,\n",
    "method = \"both\",\n",
    "N = n_new,\n",
    "p = fraction_fraud_new,\n",
    "seed = 2019)\n",
    "sampled_credit <- sampling_result$data\n",
    "table(sampled_credit$Class)"
   ]
  },
  {
   "cell_type": "code",
   "execution_count": 39,
   "id": "athletic-conjunction",
   "metadata": {},
   "outputs": [
    {
     "data": {
      "image/png": "[encoded data removed]",
      "text/plain": [
       "plot without title"
      ]
     },
     "metadata": {},
     "output_type": "display_data"
    }
   ],
   "source": [
    "ggplot(data = sampled_credit, aes(x = V1, y = V2, col = Class))+\n",
    "geom_point(position = position_jitter(width = 0.2))+theme_bw()+\n",
    "scale_color_manual(values = c('dodgerblue2', 'red'))"
   ]
  },
  {
   "cell_type": "markdown",
   "id": "strategic-joseph",
   "metadata": {},
   "source": [
    "### Using SMOTE(Synthetic Minority Oversampling Technique) to balance the dataset"
   ]
  },
  {
   "cell_type": "code",
   "execution_count": 40,
   "id": "worldwide-madagascar",
   "metadata": {},
   "outputs": [
    {
     "name": "stderr",
     "output_type": "stream",
     "text": [
      "also installing the dependencies 'FNN', 'dbscan', 'igraph'\n",
      "\n"
     ]
    },
    {
     "name": "stdout",
     "output_type": "stream",
     "text": [
      "\n",
      "  There is a binary version available but the source version is later:\n",
      "       binary source needs_compilation\n",
      "dbscan  1.1-6  1.1-8              TRUE\n",
      "\n",
      "  Binaries will be installed\n",
      "package 'FNN' successfully unpacked and MD5 sums checked\n",
      "package 'dbscan' successfully unpacked and MD5 sums checked\n",
      "package 'igraph' successfully unpacked and MD5 sums checked\n",
      "package 'smotefamily' successfully unpacked and MD5 sums checked\n",
      "\n",
      "The downloaded binary packages are in\n",
      "\tC:\\Users\\princ\\AppData\\Local\\Temp\\Rtmpoxc7ev\\downloaded_packages\n"
     ]
    }
   ],
   "source": [
    "#install.packages(\"smotefamily\")"
   ]
  },
  {
   "cell_type": "code",
   "execution_count": 41,
   "id": "alpine-tracy",
   "metadata": {},
   "outputs": [
    {
     "name": "stderr",
     "output_type": "stream",
     "text": [
      "Warning message:\n",
      "\"package 'smotefamily' was built under R version 3.6.3\""
     ]
    },
    {
     "data": {
      "text/plain": [
       "\n",
       "    0     1 \n",
       "22750    35 "
      ]
     },
     "metadata": {},
     "output_type": "display_data"
    }
   ],
   "source": [
    "library(smotefamily)\n",
    "table(train_data$Class)"
   ]
  },
  {
   "cell_type": "code",
   "execution_count": 42,
   "id": "homeless-muscle",
   "metadata": {},
   "outputs": [],
   "source": [
    "#set the number of fraud and ligitimate cases, and the desired percentage of legitimate cases\n",
    "n0 <- 22750\n",
    "n1 <- 35\n",
    "r0 <- 0.6"
   ]
  },
  {
   "cell_type": "code",
   "execution_count": 43,
   "id": "progressive-simple",
   "metadata": {},
   "outputs": [],
   "source": [
    "#calculate the value for the dup_size parameter of smote\n",
    "ntimes <- ((1-r0)/r0 * (n0 / n1) - 1)\n",
    "smote_output <- SMOTE(X=train_data[, -c(1, 31)],\n",
    "target = train_data$Class,\n",
    "K=5,\n",
    "dup_size = ntimes)"
   ]
  },
  {
   "cell_type": "code",
   "execution_count": 44,
   "id": "proprietary-chapter",
   "metadata": {},
   "outputs": [
    {
     "data": {
      "text/plain": [
       "\n",
       "        0         1 \n",
       "0.6001847 0.3998153 "
      ]
     },
     "metadata": {},
     "output_type": "display_data"
    }
   ],
   "source": [
    "credit_smote <- smote_output$data\n",
    "colnames(credit_smote)[30] <- \"Class\"\n",
    "prop.table(table(credit_smote$Class))"
   ]
  },
  {
   "cell_type": "code",
   "execution_count": 45,
   "id": "piano-complement",
   "metadata": {},
   "outputs": [
    {
     "data": {
      "image/png": "[encoded data removed]",
      "text/plain": [
       "plot without title"
      ]
     },
     "metadata": {},
     "output_type": "display_data"
    }
   ],
   "source": [
    "# Class distribution for original datasate\n",
    "ggplot(train_data, aes(x = V1, y = V2, color = Class))+\n",
    "geom_point()+\n",
    "scale_color_manual(values = c('dodgerblue2', 'red'))"
   ]
  },
  {
   "cell_type": "code",
   "execution_count": 46,
   "id": "national-consumer",
   "metadata": {},
   "outputs": [
    {
     "name": "stdout",
     "output_type": "stream",
     "text": [
      "package 'rpart.plot' successfully unpacked and MD5 sums checked\n",
      "\n",
      "The downloaded binary packages are in\n",
      "\tC:\\Users\\princ\\AppData\\Local\\Temp\\Rtmpoxc7ev\\downloaded_packages\n"
     ]
    }
   ],
   "source": [
    "#install.packages('rpart.plot')"
   ]
  },
  {
   "cell_type": "code",
   "execution_count": 47,
   "id": "arbitrary-river",
   "metadata": {},
   "outputs": [
    {
     "name": "stdout",
     "output_type": "stream",
     "text": [
      "package 'rpart' successfully unpacked and MD5 sums checked\n"
     ]
    },
    {
     "name": "stderr",
     "output_type": "stream",
     "text": [
      "Warning message:\n",
      "\"cannot remove prior installation of package 'rpart'\"Warning message in file.copy(savedcopy, lib, recursive = TRUE):\n",
      "\"problem copying C:\\Anaconda\\envs\\rstudio\\lib\\R\\library\\00LOCK\\rpart\\libs\\x64\\rpart.dll to C:\\Anaconda\\envs\\rstudio\\lib\\R\\library\\rpart\\libs\\x64\\rpart.dll: Permission denied\"Warning message:\n",
      "\"restored 'rpart'\""
     ]
    },
    {
     "name": "stdout",
     "output_type": "stream",
     "text": [
      "\n",
      "The downloaded binary packages are in\n",
      "\tC:\\Users\\princ\\AppData\\Local\\Temp\\Rtmpoxc7ev\\downloaded_packages\n"
     ]
    }
   ],
   "source": [
    "#install.packages('rpart')"
   ]
  },
  {
   "cell_type": "code",
   "execution_count": 48,
   "id": "modular-eclipse",
   "metadata": {},
   "outputs": [
    {
     "name": "stderr",
     "output_type": "stream",
     "text": [
      "Warning message:\n",
      "\"package 'rpart' was built under R version 3.6.3\"Warning message:\n",
      "\"package 'rpart.plot' was built under R version 3.6.3\""
     ]
    }
   ],
   "source": [
    "library(rpart)\n",
    "library(rpart.plot)"
   ]
  },
  {
   "cell_type": "code",
   "execution_count": 49,
   "id": "featured-dragon",
   "metadata": {},
   "outputs": [
    {
     "data": {
      "image/png": "[encoded data removed]",
      "text/plain": [
       "plot without title"
      ]
     },
     "metadata": {},
     "output_type": "display_data"
    }
   ],
   "source": [
    "CART_model <- rpart(Class ~ . ,credit_smote)\n",
    "rpart.plot(CART_model, extra = 0, type = 5, tweak = 1.2)"
   ]
  },
  {
   "cell_type": "code",
   "execution_count": 50,
   "id": "northern-democrat",
   "metadata": {
    "scrolled": true
   },
   "outputs": [],
   "source": [
    "#predict fraud classes\n",
    "predicted_val <- predict(CART_model, test_data, type = 'class')"
   ]
  },
  {
   "cell_type": "code",
   "execution_count": 51,
   "id": "identified-distribution",
   "metadata": {},
   "outputs": [
    {
     "data": {
      "text/plain": [
       "Confusion Matrix and Statistics\n",
       "\n",
       "          Reference\n",
       "Prediction    0    1\n",
       "         0 5625    2\n",
       "         1   62    7\n",
       "                                          \n",
       "               Accuracy : 0.9888          \n",
       "                 95% CI : (0.9857, 0.9913)\n",
       "    No Information Rate : 0.9984          \n",
       "    P-Value [Acc > NIR] : 1               \n",
       "                                          \n",
       "                  Kappa : 0.1772          \n",
       "                                          \n",
       " Mcnemar's Test P-Value : 1.643e-13       \n",
       "                                          \n",
       "            Sensitivity : 0.9891          \n",
       "            Specificity : 0.7778          \n",
       "         Pos Pred Value : 0.9996          \n",
       "         Neg Pred Value : 0.1014          \n",
       "             Prevalence : 0.9984          \n",
       "         Detection Rate : 0.9875          \n",
       "   Detection Prevalence : 0.9879          \n",
       "      Balanced Accuracy : 0.8834          \n",
       "                                          \n",
       "       'Positive' Class : 0               \n",
       "                                          "
      ]
     },
     "metadata": {},
     "output_type": "display_data"
    }
   ],
   "source": [
    "library(caret)\n",
    "confusionMatrix(predicted_val, test_data$Class)"
   ]
  },
  {
   "cell_type": "code",
   "execution_count": 52,
   "id": "hungarian-carnival",
   "metadata": {},
   "outputs": [],
   "source": [
    "predicted_val <- predict(CART_model, credit_card[-1], type = 'class')"
   ]
  },
  {
   "cell_type": "code",
   "execution_count": 53,
   "id": "thrown-diving",
   "metadata": {},
   "outputs": [
    {
     "data": {
      "text/plain": [
       "Confusion Matrix and Statistics\n",
       "\n",
       "          Reference\n",
       "Prediction     0     1\n",
       "         0 28155     4\n",
       "         1   282    40\n",
       "                                          \n",
       "               Accuracy : 0.99            \n",
       "                 95% CI : (0.9887, 0.9911)\n",
       "    No Information Rate : 0.9985          \n",
       "    P-Value [Acc > NIR] : 1               \n",
       "                                          \n",
       "                  Kappa : 0.2164          \n",
       "                                          \n",
       " Mcnemar's Test P-Value : <2e-16          \n",
       "                                          \n",
       "            Sensitivity : 0.9901          \n",
       "            Specificity : 0.9091          \n",
       "         Pos Pred Value : 0.9999          \n",
       "         Neg Pred Value : 0.1242          \n",
       "             Prevalence : 0.9985          \n",
       "         Detection Rate : 0.9886          \n",
       "   Detection Prevalence : 0.9887          \n",
       "      Balanced Accuracy : 0.9496          \n",
       "                                          \n",
       "       'Positive' Class : 0               \n",
       "                                          "
      ]
     },
     "metadata": {},
     "output_type": "display_data"
    }
   ],
   "source": [
    "confusionMatrix(predicted_val, credit_card$Class)"
   ]
  },
  {
   "cell_type": "markdown",
   "id": "naked-beijing",
   "metadata": {},
   "source": [
    "### Decision Tree without SMOTE"
   ]
  },
  {
   "cell_type": "code",
   "execution_count": 54,
   "id": "expanded-reference",
   "metadata": {},
   "outputs": [
    {
     "data": {
      "image/png": "[encoded data removed]",
      "text/plain": [
       "plot without title"
      ]
     },
     "metadata": {},
     "output_type": "display_data"
    }
   ],
   "source": [
    "CART_model <- rpart(Class ~ . , train_data [, -1])\n",
    "rpart.plot(CART_model, extra = 0, type = 5, tweak = 1.2)"
   ]
  },
  {
   "cell_type": "code",
   "execution_count": 55,
   "id": "convenient-brown",
   "metadata": {},
   "outputs": [],
   "source": [
    "# Predict fraud Classes\n",
    "predicted_val <- predict(CART_model, test_data[-1], type = 'class')"
   ]
  },
  {
   "cell_type": "code",
   "execution_count": 56,
   "id": "nutritional-jackson",
   "metadata": {},
   "outputs": [
    {
     "data": {
      "text/plain": [
       "Confusion Matrix and Statistics\n",
       "\n",
       "          Reference\n",
       "Prediction    0    1\n",
       "         0 5686    3\n",
       "         1    1    6\n",
       "                                          \n",
       "               Accuracy : 0.9993          \n",
       "                 95% CI : (0.9982, 0.9998)\n",
       "    No Information Rate : 0.9984          \n",
       "    P-Value [Acc > NIR] : 0.05483         \n",
       "                                          \n",
       "                  Kappa : 0.7497          \n",
       "                                          \n",
       " Mcnemar's Test P-Value : 0.61708         \n",
       "                                          \n",
       "            Sensitivity : 0.9998          \n",
       "            Specificity : 0.6667          \n",
       "         Pos Pred Value : 0.9995          \n",
       "         Neg Pred Value : 0.8571          \n",
       "             Prevalence : 0.9984          \n",
       "         Detection Rate : 0.9982          \n",
       "   Detection Prevalence : 0.9988          \n",
       "      Balanced Accuracy : 0.8332          \n",
       "                                          \n",
       "       'Positive' Class : 0               \n",
       "                                          "
      ]
     },
     "metadata": {},
     "output_type": "display_data"
    }
   ],
   "source": [
    "library(caret)\n",
    "confusionMatrix(predicted_val, test_data$Class)"
   ]
  },
  {
   "cell_type": "code",
   "execution_count": null,
   "id": "competitive-praise",
   "metadata": {},
   "outputs": [],
   "source": []
  },
  {
   "cell_type": "code",
   "execution_count": null,
   "id": "nonprofit-workshop",
   "metadata": {},
   "outputs": [],
   "source": []
  }
 ],
 "metadata": {
  "kernelspec": {
   "display_name": "R",
   "language": "R",
   "name": "ir"
  },
  "language_info": {
   "codemirror_mode": "r",
   "file_extension": ".r",
   "mimetype": "text/x-r-source",
   "name": "R",
   "pygments_lexer": "r",
   "version": "3.6.1"
  }
 },
 "nbformat": 4,
 "nbformat_minor": 5
}
